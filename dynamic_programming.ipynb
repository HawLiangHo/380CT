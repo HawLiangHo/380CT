{
 "cells": [
  {
   "cell_type": "code",
   "execution_count": 178,
   "metadata": {},
   "outputs": [],
   "source": [
    "from time import time"
   ]
  },
  {
   "cell_type": "code",
   "execution_count": 179,
   "metadata": {},
   "outputs": [],
   "source": [
    "# A dynamic programming Python3 implementation\n",
    "# for vertex cover problem for a tree\n",
    "\n",
    "# A utility function to find min of two integers\n",
    "\n",
    "# A binary tree node has data, pointer to\n",
    "# left child and a pointer to right child\n",
    "class Node:\n",
    "    def __init__(self, x):\n",
    "        self.data = x\n",
    "        self.vc = 0\n",
    "        self.left = None\n",
    "        self.right = None"
   ]
  },
  {
   "cell_type": "code",
   "execution_count": 180,
   "metadata": {},
   "outputs": [],
   "source": [
    "# The function returns size of\n",
    "# the minimum vertex cover\n",
    "def vCover(root):\n",
    "\t\n",
    "\t# The size of minimum vertex cover\n",
    "\t# is zero if tree is empty or there\n",
    "\t# is only one node\n",
    "\tif (root == None):\n",
    "\t\treturn 0\n",
    "\t\t\n",
    "\tif (root.left == None and root.right == None):\n",
    "\t\treturn 0\n",
    "\n",
    "\t# If vertex cover for this node is\n",
    "\t# already evaluated, then return it\n",
    "\t# to save recomputation of same subproblem again.\n",
    "\tif (root.vc != 0):\n",
    "\t\treturn root.vc\n",
    "\n",
    "\t# Calculate size of vertex cover when\n",
    "\t# root is part of it\n",
    "\tsize_incl = 1 + vCover(root.left) + vCover(root.right)\n",
    "\n",
    "\t# Calculate size of vertex cover\n",
    "\t# when root is not part of it\n",
    "\tsize_excl = 0\n",
    "\tif (root.left):\n",
    "\t\tsize_excl += 1 + vCover(root.left.left) + vCover(root.left.right)\n",
    "\n",
    "\tif (root.right):\n",
    "\t\tsize_excl += 1 + vCover(root.right.left) + vCover(root.right.right)\n",
    "\n",
    "\t# Minimum of two values is vertex cover,\n",
    "\t# store it before returning\n",
    "\troot.vc = min(size_incl, size_excl)\n",
    "\treturn root.vc"
   ]
  },
  {
   "cell_type": "code",
   "execution_count": 181,
   "metadata": {},
   "outputs": [
    {
     "name": "stdout",
     "output_type": "stream",
     "text": [
      "The input size of k is 9\n",
      "The size of the minimum vertex cover is 8\n",
      "Vertex cover with size of 8 <= 9 : TRUE\n",
      "Processed Time taken = 0.00101185 s\n"
     ]
    }
   ],
   "source": [
    "# Driver Code\n",
    "if __name__ == '__main__':\n",
    "\tsize = int(input(\"Please enter size k\"))\n",
    "\n",
    "root = Node(0)\n",
    "root.left = Node(1)\n",
    "root.right = Node(2)\n",
    "root.right.left = Node(3)\n",
    "root.right.right = Node(4)\n",
    "root.right.right.right = Node(5)\n",
    "root.right.right.left = Node(6)\n",
    "root.right.right.right.left = Node(7)\n",
    "root.right.right.right.right = Node(8)\n",
    "root.right.right.right.left.left = Node(9)\n",
    "root.right.right.right.left.right = Node(10)\n",
    "root.right.right.right.left.left.right = Node(11)\n",
    "root.right.right.right.left.left.left = Node(12)\n",
    "root.right.right.left.left = Node(13)\n",
    "root.right.right.right.right.right = Node(14)\n",
    "root.right.right.right.right.left = Node(15)\n",
    "root.right.right.right.right.right.right = Node(16)\n",
    "root.right.right.right.right.right.left = Node(17)\n",
    "root.right.right.right.right.left.left = Node(18)\n",
    "root.right.right.right.right.left.right = Node(19)\n",
    "\n",
    "\n",
    "print(\"The input size of k is\", size)\n",
    "time_now = time()\n",
    "vc = vCover(root)\n",
    "print(\"The size of the minimum vertex cover is\", vc)\n",
    "time_end = time()\n",
    "\n",
    "print(\"Vertex cover with size of \"f\"{vc} <= {size} : \" + (\"TRUE\" if vc <= size else \"FALSE\"))\n",
    "\n",
    "print(\"Processed Time taken = {:.8f} s\".format(time_end - time_now))"
   ]
  }
 ],
 "metadata": {
  "interpreter": {
   "hash": "e40ae150af8a068cd6a9675119192961220686d1f9d6085600fba5a4187beb38"
  },
  "kernelspec": {
   "display_name": "Python 3.8.2 32-bit",
   "name": "python3"
  },
  "language_info": {
   "codemirror_mode": {
    "name": "ipython",
    "version": 3
   },
   "file_extension": ".py",
   "mimetype": "text/x-python",
   "name": "python",
   "nbconvert_exporter": "python",
   "pygments_lexer": "ipython3",
   "version": "3.8.2"
  },
  "orig_nbformat": 4
 },
 "nbformat": 4,
 "nbformat_minor": 2
}
